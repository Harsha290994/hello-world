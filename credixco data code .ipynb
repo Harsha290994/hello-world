{
 "cells": [
  {
   "cell_type": "markdown",
   "metadata": {},
   "source": [
    "# Classification Model on MUSK dataset"
   ]
  },
  {
   "cell_type": "code",
   "execution_count": 1,
   "metadata": {},
   "outputs": [],
   "source": [
    "import numpy as np #Import modules to process calculations(Numpy) and work on DataFrames(Pandas)\n",
    "import pandas as pd"
   ]
  },
  {
   "cell_type": "code",
   "execution_count": 2,
   "metadata": {},
   "outputs": [],
   "source": [
    "musk_data = pd.read_csv('musk_csv.csv')#Read Csv files using Pandas. "
   ]
  },
  {
   "cell_type": "code",
   "execution_count": 3,
   "metadata": {},
   "outputs": [
    {
     "data": {
      "text/html": [
       "<div>\n",
       "<style scoped>\n",
       "    .dataframe tbody tr th:only-of-type {\n",
       "        vertical-align: middle;\n",
       "    }\n",
       "\n",
       "    .dataframe tbody tr th {\n",
       "        vertical-align: top;\n",
       "    }\n",
       "\n",
       "    .dataframe thead th {\n",
       "        text-align: right;\n",
       "    }\n",
       "</style>\n",
       "<table border=\"1\" class=\"dataframe\">\n",
       "  <thead>\n",
       "    <tr style=\"text-align: right;\">\n",
       "      <th></th>\n",
       "      <th>ID</th>\n",
       "      <th>molecule_name</th>\n",
       "      <th>conformation_name</th>\n",
       "      <th>f1</th>\n",
       "      <th>f2</th>\n",
       "      <th>f3</th>\n",
       "      <th>f4</th>\n",
       "      <th>f5</th>\n",
       "      <th>f6</th>\n",
       "      <th>f7</th>\n",
       "      <th>...</th>\n",
       "      <th>f158</th>\n",
       "      <th>f159</th>\n",
       "      <th>f160</th>\n",
       "      <th>f161</th>\n",
       "      <th>f162</th>\n",
       "      <th>f163</th>\n",
       "      <th>f164</th>\n",
       "      <th>f165</th>\n",
       "      <th>f166</th>\n",
       "      <th>class</th>\n",
       "    </tr>\n",
       "  </thead>\n",
       "  <tbody>\n",
       "    <tr>\n",
       "      <th>0</th>\n",
       "      <td>1</td>\n",
       "      <td>MUSK-211</td>\n",
       "      <td>211_1+1</td>\n",
       "      <td>46</td>\n",
       "      <td>-108</td>\n",
       "      <td>-60</td>\n",
       "      <td>-69</td>\n",
       "      <td>-117</td>\n",
       "      <td>49</td>\n",
       "      <td>38</td>\n",
       "      <td>...</td>\n",
       "      <td>-308</td>\n",
       "      <td>52</td>\n",
       "      <td>-7</td>\n",
       "      <td>39</td>\n",
       "      <td>126</td>\n",
       "      <td>156</td>\n",
       "      <td>-50</td>\n",
       "      <td>-112</td>\n",
       "      <td>96</td>\n",
       "      <td>1</td>\n",
       "    </tr>\n",
       "    <tr>\n",
       "      <th>1</th>\n",
       "      <td>2</td>\n",
       "      <td>MUSK-211</td>\n",
       "      <td>211_1+10</td>\n",
       "      <td>41</td>\n",
       "      <td>-188</td>\n",
       "      <td>-145</td>\n",
       "      <td>22</td>\n",
       "      <td>-117</td>\n",
       "      <td>-6</td>\n",
       "      <td>57</td>\n",
       "      <td>...</td>\n",
       "      <td>-59</td>\n",
       "      <td>-2</td>\n",
       "      <td>52</td>\n",
       "      <td>103</td>\n",
       "      <td>136</td>\n",
       "      <td>169</td>\n",
       "      <td>-61</td>\n",
       "      <td>-136</td>\n",
       "      <td>79</td>\n",
       "      <td>1</td>\n",
       "    </tr>\n",
       "    <tr>\n",
       "      <th>2</th>\n",
       "      <td>3</td>\n",
       "      <td>MUSK-211</td>\n",
       "      <td>211_1+11</td>\n",
       "      <td>46</td>\n",
       "      <td>-194</td>\n",
       "      <td>-145</td>\n",
       "      <td>28</td>\n",
       "      <td>-117</td>\n",
       "      <td>73</td>\n",
       "      <td>57</td>\n",
       "      <td>...</td>\n",
       "      <td>-134</td>\n",
       "      <td>-154</td>\n",
       "      <td>57</td>\n",
       "      <td>143</td>\n",
       "      <td>142</td>\n",
       "      <td>165</td>\n",
       "      <td>-67</td>\n",
       "      <td>-145</td>\n",
       "      <td>39</td>\n",
       "      <td>1</td>\n",
       "    </tr>\n",
       "    <tr>\n",
       "      <th>3</th>\n",
       "      <td>4</td>\n",
       "      <td>MUSK-211</td>\n",
       "      <td>211_1+12</td>\n",
       "      <td>41</td>\n",
       "      <td>-188</td>\n",
       "      <td>-145</td>\n",
       "      <td>22</td>\n",
       "      <td>-117</td>\n",
       "      <td>-7</td>\n",
       "      <td>57</td>\n",
       "      <td>...</td>\n",
       "      <td>-60</td>\n",
       "      <td>-4</td>\n",
       "      <td>52</td>\n",
       "      <td>104</td>\n",
       "      <td>136</td>\n",
       "      <td>168</td>\n",
       "      <td>-60</td>\n",
       "      <td>-135</td>\n",
       "      <td>80</td>\n",
       "      <td>1</td>\n",
       "    </tr>\n",
       "    <tr>\n",
       "      <th>4</th>\n",
       "      <td>5</td>\n",
       "      <td>MUSK-211</td>\n",
       "      <td>211_1+13</td>\n",
       "      <td>41</td>\n",
       "      <td>-188</td>\n",
       "      <td>-145</td>\n",
       "      <td>22</td>\n",
       "      <td>-117</td>\n",
       "      <td>-7</td>\n",
       "      <td>57</td>\n",
       "      <td>...</td>\n",
       "      <td>-60</td>\n",
       "      <td>-4</td>\n",
       "      <td>52</td>\n",
       "      <td>104</td>\n",
       "      <td>137</td>\n",
       "      <td>168</td>\n",
       "      <td>-60</td>\n",
       "      <td>-135</td>\n",
       "      <td>80</td>\n",
       "      <td>1</td>\n",
       "    </tr>\n",
       "  </tbody>\n",
       "</table>\n",
       "<p>5 rows × 170 columns</p>\n",
       "</div>"
      ],
      "text/plain": [
       "   ID molecule_name conformation_name  f1   f2   f3  f4   f5  f6  f7  ...    \\\n",
       "0   1      MUSK-211           211_1+1  46 -108  -60 -69 -117  49  38  ...     \n",
       "1   2      MUSK-211          211_1+10  41 -188 -145  22 -117  -6  57  ...     \n",
       "2   3      MUSK-211          211_1+11  46 -194 -145  28 -117  73  57  ...     \n",
       "3   4      MUSK-211          211_1+12  41 -188 -145  22 -117  -7  57  ...     \n",
       "4   5      MUSK-211          211_1+13  41 -188 -145  22 -117  -7  57  ...     \n",
       "\n",
       "   f158  f159  f160  f161  f162  f163  f164  f165  f166  class  \n",
       "0  -308    52    -7    39   126   156   -50  -112    96      1  \n",
       "1   -59    -2    52   103   136   169   -61  -136    79      1  \n",
       "2  -134  -154    57   143   142   165   -67  -145    39      1  \n",
       "3   -60    -4    52   104   136   168   -60  -135    80      1  \n",
       "4   -60    -4    52   104   137   168   -60  -135    80      1  \n",
       "\n",
       "[5 rows x 170 columns]"
      ]
     },
     "execution_count": 3,
     "metadata": {},
     "output_type": "execute_result"
    }
   ],
   "source": [
    "musk_data.head()#Checking the head of the dataframe"
   ]
  },
  {
   "cell_type": "code",
   "execution_count": 4,
   "metadata": {},
   "outputs": [
    {
     "data": {
      "text/plain": [
       "'C:\\\\Users\\\\HARSHA\\\\Downloads'"
      ]
     },
     "execution_count": 4,
     "metadata": {},
     "output_type": "execute_result"
    }
   ],
   "source": [
    "import os\n",
    "os.getcwd()"
   ]
  },
  {
   "cell_type": "code",
   "execution_count": 5,
   "metadata": {
    "scrolled": true
   },
   "outputs": [
    {
     "data": {
      "text/plain": [
       "0    5581\n",
       "1    1017\n",
       "Name: class, dtype: int64"
      ]
     },
     "execution_count": 5,
     "metadata": {},
     "output_type": "execute_result"
    }
   ],
   "source": [
    "musk_data['class'].value_counts()#Value counts of the Class from Musk"
   ]
  },
  {
   "cell_type": "code",
   "execution_count": 6,
   "metadata": {},
   "outputs": [
    {
     "data": {
      "text/plain": [
       "j146_1+46     1\n",
       "288_4+63      1\n",
       "f158_1+41     1\n",
       "j147_3+30     1\n",
       "j146_3+195    1\n",
       "j146_4+63     1\n",
       "j147_3+145    1\n",
       "252_1+176     1\n",
       "232_3+7       1\n",
       "j147_2+19     1\n",
       "197_1+139     1\n",
       "f146_1+19     1\n",
       "233_1+49      1\n",
       "208_1+2       1\n",
       "217_1+16      1\n",
       "207_1+24      1\n",
       "252_4+37      1\n",
       "240_1+15      1\n",
       "j147_3+183    1\n",
       "252_1+177     1\n",
       "252_4+227     1\n",
       "f146_1+217    1\n",
       "240_3+6       1\n",
       "jf67_1+2      1\n",
       "362_1+1       1\n",
       "f146_1+103    1\n",
       "213_1+49      1\n",
       "320_1+1       1\n",
       "j146_2+149    1\n",
       "284_2+1       1\n",
       "             ..\n",
       "j147_4+160    1\n",
       "j146_1+14     1\n",
       "252_1+20      1\n",
       "192_1+242     1\n",
       "f146_1+237    1\n",
       "197_1+5       1\n",
       "jf58_1+6      1\n",
       "287_1+18      1\n",
       "j84_1+3       1\n",
       "288_3+30      1\n",
       "197_1+176     1\n",
       "j147_4+197    1\n",
       "288_2+66      1\n",
       "j147_3+95     1\n",
       "294_2+1       1\n",
       "197_1+115     1\n",
       "252_2+83      1\n",
       "jf17_1+2      1\n",
       "j147_1+176    1\n",
       "j147_1+48     1\n",
       "192_1+88      1\n",
       "294_1+2       1\n",
       "j146_4+252    1\n",
       "f209_2+32     1\n",
       "f209_2+23     1\n",
       "j147_2+103    1\n",
       "207_1+6       1\n",
       "211_1+18      1\n",
       "j147_3+59     1\n",
       "252_2+22      1\n",
       "Name: conformation_name, Length: 6598, dtype: int64"
      ]
     },
     "execution_count": 6,
     "metadata": {},
     "output_type": "execute_result"
    }
   ],
   "source": [
    "musk_data.conformation_name.value_counts()#checking Value counts in Musk_data"
   ]
  },
  {
   "cell_type": "code",
   "execution_count": 7,
   "metadata": {},
   "outputs": [
    {
     "data": {
      "text/plain": [
       "NON-MUSK-j146    1044\n",
       "NON-MUSK-252     1010\n",
       "NON-MUSK-j147     911\n",
       "NON-MUSK-f146     383\n",
       "NON-MUSK-288      344\n",
       "NON-MUSK-192      286\n",
       "NON-MUSK-197      277\n",
       "MUSK-217          215\n",
       "NON-MUSK-326      141\n",
       "NON-MUSK-251      140\n",
       "NON-MUSK-216      135\n",
       "NON-MUSK-233      104\n",
       "NON-MUSK-270       83\n",
       "MUSK-240           82\n",
       "MUSK-213           78\n",
       "MUSK-215           73\n",
       "MUSK-287           64\n",
       "NON-MUSK-f209      63\n",
       "NON-MUSK-jp13      63\n",
       "NON-MUSK-286       59\n",
       "NON-MUSK-220       53\n",
       "NON-MUSK-207       48\n",
       "MUSK-f158          43\n",
       "NON-MUSK-244       40\n",
       "MUSK-f152          36\n",
       "NON-MUSK-232       34\n",
       "MUSK-jf67          32\n",
       "MUSK-212           31\n",
       "MUSK-256           29\n",
       "NON-MUSK-249       29\n",
       "                 ... \n",
       "NON-MUSK-jp10       5\n",
       "NON-MUSK-320        4\n",
       "MUSK-jf15           4\n",
       "NON-MUSK-338        4\n",
       "NON-MUSK-j83        4\n",
       "NON-MUSK-253        4\n",
       "NON-MUSK-271        4\n",
       "NON-MUSK-j84        4\n",
       "NON-MUSK-jf79       4\n",
       "NON-MUSK-332        4\n",
       "NON-MUSK-334        4\n",
       "NON-MUSK-296        4\n",
       "MUSK-344            4\n",
       "NON-MUSK-jf18       4\n",
       "MUSK-321            4\n",
       "NON-MUSK-j81        4\n",
       "NON-MUSK-297        4\n",
       "NON-MUSK-360        4\n",
       "NON-MUSK-318        2\n",
       "NON-MUSK-290        2\n",
       "NON-MUSK-305        2\n",
       "NON-MUSK-309        2\n",
       "MUSK-306            2\n",
       "MUSK-300            2\n",
       "NON-MUSK-358        2\n",
       "NON-MUSK-295        2\n",
       "NON-MUSK-308        2\n",
       "NON-MUSK-j130       2\n",
       "NON-MUSK-j97        1\n",
       "NON-MUSK-j96        1\n",
       "Name: molecule_name, Length: 102, dtype: int64"
      ]
     },
     "execution_count": 7,
     "metadata": {},
     "output_type": "execute_result"
    }
   ],
   "source": [
    "musk_data.molecule_name.value_counts()#Value counts for the Molecule_name"
   ]
  },
  {
   "cell_type": "code",
   "execution_count": 8,
   "metadata": {},
   "outputs": [],
   "source": [
    "cat = ['molecule_name', 'conformation_name']\n",
    "musk_data[cat] = musk_data[cat].astype('category')#As Molecule_name and Conformation_name are categorical, Converting them to Category"
   ]
  },
  {
   "cell_type": "code",
   "execution_count": 9,
   "metadata": {},
   "outputs": [
    {
     "data": {
      "text/plain": [
       "(6598, 170)"
      ]
     },
     "execution_count": 9,
     "metadata": {},
     "output_type": "execute_result"
    }
   ],
   "source": [
    "musk_data.shape#Shape of the dataframe"
   ]
  },
  {
   "cell_type": "code",
   "execution_count": 10,
   "metadata": {},
   "outputs": [],
   "source": [
    "dty = pd.DataFrame(musk_data.dtypes)#As we have 170 columns, we cannot see each column datatypes. So converting it to DataFrame"
   ]
  },
  {
   "cell_type": "code",
   "execution_count": 11,
   "metadata": {},
   "outputs": [
    {
     "data": {
      "text/plain": [
       "int64       168\n",
       "category      1\n",
       "category      1\n",
       "Name: 0, dtype: int64"
      ]
     },
     "execution_count": 11,
     "metadata": {},
     "output_type": "execute_result"
    }
   ],
   "source": [
    "dty[0].value_counts()#Now checking the value counts of each columns, which shows - 168 int64 and 2 categories. "
   ]
  },
  {
   "cell_type": "code",
   "execution_count": 12,
   "metadata": {},
   "outputs": [
    {
     "data": {
      "text/plain": [
       "str"
      ]
     },
     "execution_count": 12,
     "metadata": {},
     "output_type": "execute_result"
    }
   ],
   "source": [
    "type(musk_data['molecule_name'][0])#Type of Molecule"
   ]
  },
  {
   "cell_type": "code",
   "execution_count": 13,
   "metadata": {},
   "outputs": [
    {
     "data": {
      "text/plain": [
       "str"
      ]
     },
     "execution_count": 13,
     "metadata": {},
     "output_type": "execute_result"
    }
   ],
   "source": [
    "type(musk_data['conformation_name'][0])#Type of conformation_name"
   ]
  },
  {
   "cell_type": "markdown",
   "metadata": {},
   "source": [
    "#### Importing Label Encoder to assign unique values for Molecule_name and Conformation_name. \n",
    "#### Issue with this, If the categorical Variable is not occuring in test data then we cannot transform the Test with Label encoder and this same for dummification. It will definitely throw an error. "
   ]
  },
  {
   "cell_type": "code",
   "execution_count": 14,
   "metadata": {},
   "outputs": [],
   "source": [
    "from sklearn.preprocessing import LabelEncoder\n",
    "LE = LabelEncoder()#Imported Label encoder from Sklearn - Preprocessing. "
   ]
  },
  {
   "cell_type": "code",
   "execution_count": 15,
   "metadata": {},
   "outputs": [],
   "source": [
    "le_molecule = LE.fit(musk_data['molecule_name'] )#Fitting molecule_name"
   ]
  },
  {
   "cell_type": "code",
   "execution_count": 16,
   "metadata": {},
   "outputs": [],
   "source": [
    "musk_data['molecule_name'] = le_molecule.transform(musk_data['molecule_name'])#Transforming Molecule_name"
   ]
  },
  {
   "cell_type": "code",
   "execution_count": 17,
   "metadata": {},
   "outputs": [],
   "source": [
    "le_conformation_name = LE.fit(musk_data['conformation_name'])#Fitting Conformation_name"
   ]
  },
  {
   "cell_type": "code",
   "execution_count": 18,
   "metadata": {},
   "outputs": [],
   "source": [
    "musk_data['conformation_name'] = le_conformation_name.transform(musk_data['conformation_name'])#Transforming conformation_name"
   ]
  },
  {
   "cell_type": "code",
   "execution_count": 19,
   "metadata": {},
   "outputs": [
    {
     "data": {
      "text/html": [
       "<div>\n",
       "<style scoped>\n",
       "    .dataframe tbody tr th:only-of-type {\n",
       "        vertical-align: middle;\n",
       "    }\n",
       "\n",
       "    .dataframe tbody tr th {\n",
       "        vertical-align: top;\n",
       "    }\n",
       "\n",
       "    .dataframe thead th {\n",
       "        text-align: right;\n",
       "    }\n",
       "</style>\n",
       "<table border=\"1\" class=\"dataframe\">\n",
       "  <thead>\n",
       "    <tr style=\"text-align: right;\">\n",
       "      <th></th>\n",
       "      <th>ID</th>\n",
       "      <th>molecule_name</th>\n",
       "      <th>conformation_name</th>\n",
       "      <th>f1</th>\n",
       "      <th>f2</th>\n",
       "      <th>f3</th>\n",
       "      <th>f4</th>\n",
       "      <th>f5</th>\n",
       "      <th>f6</th>\n",
       "      <th>f7</th>\n",
       "      <th>...</th>\n",
       "      <th>f158</th>\n",
       "      <th>f159</th>\n",
       "      <th>f160</th>\n",
       "      <th>f161</th>\n",
       "      <th>f162</th>\n",
       "      <th>f163</th>\n",
       "      <th>f164</th>\n",
       "      <th>f165</th>\n",
       "      <th>f166</th>\n",
       "      <th>class</th>\n",
       "    </tr>\n",
       "  </thead>\n",
       "  <tbody>\n",
       "    <tr>\n",
       "      <th>0</th>\n",
       "      <td>1</td>\n",
       "      <td>0</td>\n",
       "      <td>684</td>\n",
       "      <td>46</td>\n",
       "      <td>-108</td>\n",
       "      <td>-60</td>\n",
       "      <td>-69</td>\n",
       "      <td>-117</td>\n",
       "      <td>49</td>\n",
       "      <td>38</td>\n",
       "      <td>...</td>\n",
       "      <td>-308</td>\n",
       "      <td>52</td>\n",
       "      <td>-7</td>\n",
       "      <td>39</td>\n",
       "      <td>126</td>\n",
       "      <td>156</td>\n",
       "      <td>-50</td>\n",
       "      <td>-112</td>\n",
       "      <td>96</td>\n",
       "      <td>1</td>\n",
       "    </tr>\n",
       "    <tr>\n",
       "      <th>1</th>\n",
       "      <td>2</td>\n",
       "      <td>0</td>\n",
       "      <td>685</td>\n",
       "      <td>41</td>\n",
       "      <td>-188</td>\n",
       "      <td>-145</td>\n",
       "      <td>22</td>\n",
       "      <td>-117</td>\n",
       "      <td>-6</td>\n",
       "      <td>57</td>\n",
       "      <td>...</td>\n",
       "      <td>-59</td>\n",
       "      <td>-2</td>\n",
       "      <td>52</td>\n",
       "      <td>103</td>\n",
       "      <td>136</td>\n",
       "      <td>169</td>\n",
       "      <td>-61</td>\n",
       "      <td>-136</td>\n",
       "      <td>79</td>\n",
       "      <td>1</td>\n",
       "    </tr>\n",
       "    <tr>\n",
       "      <th>2</th>\n",
       "      <td>3</td>\n",
       "      <td>0</td>\n",
       "      <td>686</td>\n",
       "      <td>46</td>\n",
       "      <td>-194</td>\n",
       "      <td>-145</td>\n",
       "      <td>28</td>\n",
       "      <td>-117</td>\n",
       "      <td>73</td>\n",
       "      <td>57</td>\n",
       "      <td>...</td>\n",
       "      <td>-134</td>\n",
       "      <td>-154</td>\n",
       "      <td>57</td>\n",
       "      <td>143</td>\n",
       "      <td>142</td>\n",
       "      <td>165</td>\n",
       "      <td>-67</td>\n",
       "      <td>-145</td>\n",
       "      <td>39</td>\n",
       "      <td>1</td>\n",
       "    </tr>\n",
       "    <tr>\n",
       "      <th>3</th>\n",
       "      <td>4</td>\n",
       "      <td>0</td>\n",
       "      <td>687</td>\n",
       "      <td>41</td>\n",
       "      <td>-188</td>\n",
       "      <td>-145</td>\n",
       "      <td>22</td>\n",
       "      <td>-117</td>\n",
       "      <td>-7</td>\n",
       "      <td>57</td>\n",
       "      <td>...</td>\n",
       "      <td>-60</td>\n",
       "      <td>-4</td>\n",
       "      <td>52</td>\n",
       "      <td>104</td>\n",
       "      <td>136</td>\n",
       "      <td>168</td>\n",
       "      <td>-60</td>\n",
       "      <td>-135</td>\n",
       "      <td>80</td>\n",
       "      <td>1</td>\n",
       "    </tr>\n",
       "    <tr>\n",
       "      <th>4</th>\n",
       "      <td>5</td>\n",
       "      <td>0</td>\n",
       "      <td>688</td>\n",
       "      <td>41</td>\n",
       "      <td>-188</td>\n",
       "      <td>-145</td>\n",
       "      <td>22</td>\n",
       "      <td>-117</td>\n",
       "      <td>-7</td>\n",
       "      <td>57</td>\n",
       "      <td>...</td>\n",
       "      <td>-60</td>\n",
       "      <td>-4</td>\n",
       "      <td>52</td>\n",
       "      <td>104</td>\n",
       "      <td>137</td>\n",
       "      <td>168</td>\n",
       "      <td>-60</td>\n",
       "      <td>-135</td>\n",
       "      <td>80</td>\n",
       "      <td>1</td>\n",
       "    </tr>\n",
       "  </tbody>\n",
       "</table>\n",
       "<p>5 rows × 170 columns</p>\n",
       "</div>"
      ],
      "text/plain": [
       "   ID  molecule_name  conformation_name  f1   f2   f3  f4   f5  f6  f7  ...    \\\n",
       "0   1              0                684  46 -108  -60 -69 -117  49  38  ...     \n",
       "1   2              0                685  41 -188 -145  22 -117  -6  57  ...     \n",
       "2   3              0                686  46 -194 -145  28 -117  73  57  ...     \n",
       "3   4              0                687  41 -188 -145  22 -117  -7  57  ...     \n",
       "4   5              0                688  41 -188 -145  22 -117  -7  57  ...     \n",
       "\n",
       "   f158  f159  f160  f161  f162  f163  f164  f165  f166  class  \n",
       "0  -308    52    -7    39   126   156   -50  -112    96      1  \n",
       "1   -59    -2    52   103   136   169   -61  -136    79      1  \n",
       "2  -134  -154    57   143   142   165   -67  -145    39      1  \n",
       "3   -60    -4    52   104   136   168   -60  -135    80      1  \n",
       "4   -60    -4    52   104   137   168   -60  -135    80      1  \n",
       "\n",
       "[5 rows x 170 columns]"
      ]
     },
     "execution_count": 19,
     "metadata": {},
     "output_type": "execute_result"
    }
   ],
   "source": [
    "musk_data.head()#After conversion, checking the head of the data. "
   ]
  },
  {
   "cell_type": "code",
   "execution_count": 20,
   "metadata": {
    "scrolled": true
   },
   "outputs": [
    {
     "data": {
      "text/plain": [
       "89     1044\n",
       "54     1010\n",
       "90      911\n",
       "81      383\n",
       "59      344\n",
       "39      286\n",
       "40      277\n",
       "5       215\n",
       "71      141\n",
       "53      140\n",
       "46      135\n",
       "50      104\n",
       "56       83\n",
       "10       82\n",
       "2        78\n",
       "4        73\n",
       "14       64\n",
       "85       63\n",
       "101      63\n",
       "58       59\n",
       "47       53\n",
       "43       48\n",
       "27       43\n",
       "51       40\n",
       "26       36\n",
       "49       34\n",
       "37       32\n",
       "1        31\n",
       "60       29\n",
       "52       29\n",
       "       ... \n",
       "100       5\n",
       "76        4\n",
       "64        4\n",
       "92        4\n",
       "99        4\n",
       "78        4\n",
       "63        4\n",
       "25        4\n",
       "57        4\n",
       "55        4\n",
       "19        4\n",
       "98        4\n",
       "93        4\n",
       "30        4\n",
       "75        4\n",
       "94        4\n",
       "70        4\n",
       "74        4\n",
       "66        2\n",
       "16        2\n",
       "62        2\n",
       "17        2\n",
       "77        2\n",
       "68        2\n",
       "65        2\n",
       "61        2\n",
       "88        2\n",
       "67        2\n",
       "96        1\n",
       "97        1\n",
       "Name: molecule_name, Length: 102, dtype: int64"
      ]
     },
     "execution_count": 20,
     "metadata": {},
     "output_type": "execute_result"
    }
   ],
   "source": [
    "musk_data.molecule_name.value_counts()#Value_counts for molecule_name to verify it has correctly labelencoder. "
   ]
  },
  {
   "cell_type": "code",
   "execution_count": 21,
   "metadata": {
    "scrolled": true
   },
   "outputs": [
    {
     "data": {
      "text/plain": [
       "2047    1\n",
       "5416    1\n",
       "3339    1\n",
       "5392    1\n",
       "1298    1\n",
       "3347    1\n",
       "5400    1\n",
       "1306    1\n",
       "3355    1\n",
       "5408    1\n",
       "1314    1\n",
       "3363    1\n",
       "1322    1\n",
       "5384    1\n",
       "3371    1\n",
       "5424    1\n",
       "1330    1\n",
       "3379    1\n",
       "5432    1\n",
       "1338    1\n",
       "3387    1\n",
       "5440    1\n",
       "1346    1\n",
       "3395    1\n",
       "1290    1\n",
       "3331    1\n",
       "1354    1\n",
       "1250    1\n",
       "5320    1\n",
       "1226    1\n",
       "       ..\n",
       "661     1\n",
       "4759    1\n",
       "2716    1\n",
       "669     1\n",
       "2660    1\n",
       "4703    1\n",
       "605     1\n",
       "2652    1\n",
       "2596    1\n",
       "549     1\n",
       "4647    1\n",
       "2604    1\n",
       "557     1\n",
       "4655    1\n",
       "2612    1\n",
       "565     1\n",
       "4663    1\n",
       "2620    1\n",
       "573     1\n",
       "4671    1\n",
       "2628    1\n",
       "581     1\n",
       "4679    1\n",
       "2636    1\n",
       "589     1\n",
       "4687    1\n",
       "2644    1\n",
       "597     1\n",
       "4695    1\n",
       "0       1\n",
       "Name: conformation_name, Length: 6598, dtype: int64"
      ]
     },
     "execution_count": 21,
     "metadata": {},
     "output_type": "execute_result"
    }
   ],
   "source": [
    "musk_data.conformation_name.value_counts()#Value_counts for conformation_name to verify it has correctly labelencoder. "
   ]
  },
  {
   "cell_type": "code",
   "execution_count": 22,
   "metadata": {},
   "outputs": [],
   "source": [
    "X = musk_data.drop('class', axis = 1)#X varaibles \n",
    "y = musk_data['class'] # Y columns"
   ]
  },
  {
   "cell_type": "code",
   "execution_count": 23,
   "metadata": {
    "scrolled": true
   },
   "outputs": [
    {
     "name": "stderr",
     "output_type": "stream",
     "text": [
      "C:\\Users\\HARSHA\\Anaconda3\\lib\\site-packages\\h5py\\__init__.py:36: FutureWarning: Conversion of the second argument of issubdtype from `float` to `np.floating` is deprecated. In future, it will be treated as `np.float64 == np.dtype(float).type`.\n",
      "  from ._conv import register_converters as _register_converters\n",
      "Using TensorFlow backend.\n"
     ]
    },
    {
     "name": "stdout",
     "output_type": "stream",
     "text": [
      "After OverSampling, the shape of X: (11162, 169)\n",
      "After OverSampling, the shape of y: (11162,) \n",
      "\n",
      "After OverSampling, counts of label '1': 5581\n",
      "After OverSampling, counts of label '0': 5581\n"
     ]
    }
   ],
   "source": [
    "from sklearn.neural_network import MLPClassifier#Importing Multi perceptron Classifier. \n",
    "from sklearn.preprocessing import StandardScaler # Import Standard Scalar\n",
    "from imblearn.over_sampling import SMOTE # There's imbalance in the class so - using Upsampling technique to process the data.\n",
    "sm = SMOTE(random_state = 2) \n",
    "X, y = sm.fit_sample(X, y.ravel()) #smote fit\n",
    "  \n",
    "print('After OverSampling, the shape of X: {}'.format(X.shape)) \n",
    "print('After OverSampling, the shape of y: {} \\n'.format(y.shape)) \n",
    "  \n",
    "print(\"After OverSampling, counts of label '1': {}\".format(sum(y == 1))) \n",
    "print(\"After OverSampling, counts of label '0': {}\".format(sum(y == 0))) "
   ]
  },
  {
   "cell_type": "code",
   "execution_count": 24,
   "metadata": {},
   "outputs": [
    {
     "data": {
      "text/plain": [
       "(11162, 169)"
      ]
     },
     "execution_count": 24,
     "metadata": {},
     "output_type": "execute_result"
    }
   ],
   "source": [
    "X.shape"
   ]
  },
  {
   "cell_type": "code",
   "execution_count": 25,
   "metadata": {},
   "outputs": [
    {
     "data": {
      "text/plain": [
       "(11162,)"
      ]
     },
     "execution_count": 25,
     "metadata": {},
     "output_type": "execute_result"
    }
   ],
   "source": [
    "y.shape"
   ]
  },
  {
   "cell_type": "code",
   "execution_count": 26,
   "metadata": {},
   "outputs": [
    {
     "data": {
      "text/plain": [
       "array([[-1.07237943, -1.28707123, -1.19232797, ...,  0.03659653,\n",
       "         0.5520399 ,  0.62749727],\n",
       "       [-1.07188284, -1.28707123, -1.19181776, ..., -0.21053771,\n",
       "         0.16694914,  0.40814985],\n",
       "       [-1.07138625, -1.28707123, -1.19130756, ..., -0.34533821,\n",
       "         0.0225401 , -0.10796174],\n",
       "       ...,\n",
       "       [-0.86828105, -1.13067963, -0.91375624, ..., -0.30040471,\n",
       "         0.10276735, -0.59826775],\n",
       "       [-0.89211736, -1.13067963, -0.93824606, ..., -0.14313747,\n",
       "         0.18299459,  0.49846938],\n",
       "       [-0.67113493, -0.47383489,  0.59951069, ..., -0.25547121,\n",
       "         0.00649465,  0.30492753]])"
      ]
     },
     "execution_count": 26,
     "metadata": {},
     "output_type": "execute_result"
    }
   ],
   "source": [
    "std = StandardScaler()#Scaling X variables. \n",
    "std.fit(X)\n",
    "std.transform(X)"
   ]
  },
  {
   "cell_type": "code",
   "execution_count": null,
   "metadata": {},
   "outputs": [],
   "source": []
  },
  {
   "cell_type": "code",
   "execution_count": 27,
   "metadata": {},
   "outputs": [],
   "source": [
    "from sklearn.model_selection import train_test_split#Importing split module from Sklearn model selection"
   ]
  },
  {
   "cell_type": "code",
   "execution_count": 28,
   "metadata": {},
   "outputs": [],
   "source": [
    "#As informed - Splitting of data is done for 80, 20\n",
    "X_train, X_test, y_train, y_test = train_test_split(X, y, test_size = 0.20, random_state = 42)"
   ]
  },
  {
   "cell_type": "code",
   "execution_count": 29,
   "metadata": {},
   "outputs": [
    {
     "name": "stdout",
     "output_type": "stream",
     "text": [
      "(8929, 169)\n",
      "(8929,)\n",
      "(2233, 169)\n",
      "(2233,)\n"
     ]
    }
   ],
   "source": [
    "#Checking shape of the split\n",
    "print(X_train.shape)\n",
    "print(y_train.shape)\n",
    "print(X_test.shape)\n",
    "print(y_test.shape)"
   ]
  },
  {
   "cell_type": "code",
   "execution_count": 30,
   "metadata": {},
   "outputs": [],
   "source": [
    "clf = MLPClassifier()"
   ]
  },
  {
   "cell_type": "code",
   "execution_count": 31,
   "metadata": {},
   "outputs": [
    {
     "data": {
      "text/plain": [
       "MLPClassifier(activation='relu', alpha=0.0001, batch_size='auto', beta_1=0.9,\n",
       "              beta_2=0.999, early_stopping=False, epsilon=1e-08,\n",
       "              hidden_layer_sizes=(100,), learning_rate='constant',\n",
       "              learning_rate_init=0.001, max_iter=200, momentum=0.9,\n",
       "              n_iter_no_change=10, nesterovs_momentum=True, power_t=0.5,\n",
       "              random_state=None, shuffle=True, solver='adam', tol=0.0001,\n",
       "              validation_fraction=0.1, verbose=False, warm_start=False)"
      ]
     },
     "execution_count": 31,
     "metadata": {},
     "output_type": "execute_result"
    }
   ],
   "source": [
    "clf.fit(X_train, y_train)#Fitting X_train and y_train"
   ]
  },
  {
   "cell_type": "code",
   "execution_count": 32,
   "metadata": {},
   "outputs": [],
   "source": [
    "train_predict = clf.predict(X_train)#Predict on Xtrain\n",
    "test_predict = clf.predict(X_test)#predict on Xtest"
   ]
  },
  {
   "cell_type": "code",
   "execution_count": 33,
   "metadata": {},
   "outputs": [],
   "source": [
    "from sklearn.metrics import classification_report # Importing Classification_report "
   ]
  },
  {
   "cell_type": "code",
   "execution_count": 34,
   "metadata": {},
   "outputs": [
    {
     "name": "stdout",
     "output_type": "stream",
     "text": [
      "              precision    recall  f1-score   support\n",
      "\n",
      "           0       1.00      1.00      1.00      4468\n",
      "           1       1.00      1.00      1.00      4461\n",
      "\n",
      "    accuracy                           1.00      8929\n",
      "   macro avg       1.00      1.00      1.00      8929\n",
      "weighted avg       1.00      1.00      1.00      8929\n",
      "\n"
     ]
    }
   ],
   "source": [
    "print(classification_report(y_train, train_predict))#Classification Report on Train prediction with respective Y_train"
   ]
  },
  {
   "cell_type": "code",
   "execution_count": 35,
   "metadata": {},
   "outputs": [
    {
     "name": "stdout",
     "output_type": "stream",
     "text": [
      "              precision    recall  f1-score   support\n",
      "\n",
      "           0       1.00      1.00      1.00      1113\n",
      "           1       1.00      1.00      1.00      1120\n",
      "\n",
      "    accuracy                           1.00      2233\n",
      "   macro avg       1.00      1.00      1.00      2233\n",
      "weighted avg       1.00      1.00      1.00      2233\n",
      "\n"
     ]
    }
   ],
   "source": [
    "print(classification_report(y_test, test_predict))#Classifaction Report on Test Prediction with respective Y_test "
   ]
  },
  {
   "cell_type": "code",
   "execution_count": 36,
   "metadata": {},
   "outputs": [],
   "source": [
    "clf_hyp = MLPClassifier(hidden_layer_sizes= (2,))"
   ]
  },
  {
   "cell_type": "code",
   "execution_count": 37,
   "metadata": {
    "scrolled": true
   },
   "outputs": [
    {
     "data": {
      "text/plain": [
       "MLPClassifier(activation='relu', alpha=0.0001, batch_size='auto', beta_1=0.9,\n",
       "              beta_2=0.999, early_stopping=False, epsilon=1e-08,\n",
       "              hidden_layer_sizes=(2,), learning_rate='constant',\n",
       "              learning_rate_init=0.001, max_iter=200, momentum=0.9,\n",
       "              n_iter_no_change=10, nesterovs_momentum=True, power_t=0.5,\n",
       "              random_state=None, shuffle=True, solver='adam', tol=0.0001,\n",
       "              validation_fraction=0.1, verbose=False, warm_start=False)"
      ]
     },
     "execution_count": 37,
     "metadata": {},
     "output_type": "execute_result"
    }
   ],
   "source": [
    "clf_hyp.fit(X_train, y_train)"
   ]
  },
  {
   "cell_type": "code",
   "execution_count": 38,
   "metadata": {},
   "outputs": [],
   "source": [
    "train_hyp_pred = clf_hyp.predict(X_train)\n",
    "test_hyp_pred = clf_hyp.predict(X_test)"
   ]
  },
  {
   "cell_type": "code",
   "execution_count": 39,
   "metadata": {},
   "outputs": [
    {
     "name": "stdout",
     "output_type": "stream",
     "text": [
      "              precision    recall  f1-score   support\n",
      "\n",
      "           0       0.50      1.00      0.67      4468\n",
      "           1       0.00      0.00      0.00      4461\n",
      "\n",
      "    accuracy                           0.50      8929\n",
      "   macro avg       0.25      0.50      0.33      8929\n",
      "weighted avg       0.25      0.50      0.33      8929\n",
      "\n"
     ]
    },
    {
     "name": "stderr",
     "output_type": "stream",
     "text": [
      "C:\\Users\\HARSHA\\Anaconda3\\lib\\site-packages\\sklearn\\metrics\\classification.py:1437: UndefinedMetricWarning: Precision and F-score are ill-defined and being set to 0.0 in labels with no predicted samples.\n",
      "  'precision', 'predicted', average, warn_for)\n"
     ]
    }
   ],
   "source": [
    "print(classification_report(y_train, train_hyp_pred))"
   ]
  },
  {
   "cell_type": "code",
   "execution_count": 40,
   "metadata": {},
   "outputs": [
    {
     "data": {
      "text/plain": [
       "0    5581\n",
       "1    1017\n",
       "Name: class, dtype: int64"
      ]
     },
     "execution_count": 40,
     "metadata": {},
     "output_type": "execute_result"
    }
   ],
   "source": [
    "musk_data['class'].value_counts()"
   ]
  },
  {
   "cell_type": "code",
   "execution_count": 41,
   "metadata": {},
   "outputs": [
    {
     "name": "stdout",
     "output_type": "stream",
     "text": [
      "              precision    recall  f1-score   support\n",
      "\n",
      "           0       0.50      1.00      0.67      1113\n",
      "           1       0.00      0.00      0.00      1120\n",
      "\n",
      "    accuracy                           0.50      2233\n",
      "   macro avg       0.25      0.50      0.33      2233\n",
      "weighted avg       0.25      0.50      0.33      2233\n",
      "\n"
     ]
    },
    {
     "name": "stderr",
     "output_type": "stream",
     "text": [
      "C:\\Users\\HARSHA\\Anaconda3\\lib\\site-packages\\sklearn\\metrics\\classification.py:1437: UndefinedMetricWarning: Precision and F-score are ill-defined and being set to 0.0 in labels with no predicted samples.\n",
      "  'precision', 'predicted', average, warn_for)\n"
     ]
    }
   ],
   "source": [
    "print(classification_report(y_test, test_hyp_pred))"
   ]
  },
  {
   "cell_type": "code",
   "execution_count": null,
   "metadata": {},
   "outputs": [],
   "source": []
  },
  {
   "cell_type": "code",
   "execution_count": null,
   "metadata": {},
   "outputs": [],
   "source": []
  }
 ],
 "metadata": {
  "kernelspec": {
   "display_name": "Python 3",
   "language": "python",
   "name": "python3"
  },
  "language_info": {
   "codemirror_mode": {
    "name": "ipython",
    "version": 3
   },
   "file_extension": ".py",
   "mimetype": "text/x-python",
   "name": "python",
   "nbconvert_exporter": "python",
   "pygments_lexer": "ipython3",
   "version": "3.6.5"
  }
 },
 "nbformat": 4,
 "nbformat_minor": 2
}
